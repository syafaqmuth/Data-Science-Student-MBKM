{
 "cells": [
  {
   "cell_type": "markdown",
   "id": "eedfd505",
   "metadata": {},
   "source": [
    "# Churn Analysis Brazilian E-Commerce\n",
    "by Jessica Syafaq Muthmaina\n",
    "\n",
    "### Assignment Outcomes:\n",
    "You should be able to create machine learning models and be able to increase its performance using various methods.\n",
    "\n",
    "### Instruction:\n",
    "From the same dataset you used in assignment 3, create a churn probability prediction using various models you have learned in class. What you should do:\n",
    "- Create several machine learning models\n",
    "- Compare these models based on performance level, don't forget to increase the performance level with hyperparameter tuning or other methods. \n",
    "- Decide which machine learning model the business should use to solve a business problem. \n",
    "- Create segmentation from the insights of the model that you choose to help the team make business decisions."
   ]
  },
  {
   "cell_type": "markdown",
   "id": "6f43e186",
   "metadata": {},
   "source": [
    "## Import Libraries"
   ]
  },
  {
   "cell_type": "code",
   "execution_count": 1,
   "id": "d45e3f8f",
   "metadata": {},
   "outputs": [
    {
     "name": "stderr",
     "output_type": "stream",
     "text": [
      "2022-11-05 01:02:16.832201: I tensorflow/core/platform/cpu_feature_guard.cc:193] This TensorFlow binary is optimized with oneAPI Deep Neural Network Library (oneDNN) to use the following CPU instructions in performance-critical operations:  AVX2 FMA\n",
      "To enable them in other operations, rebuild TensorFlow with the appropriate compiler flags.\n"
     ]
    }
   ],
   "source": [
    "import numpy as np \n",
    "import pandas as pd \n",
    "\n",
    "import time, warnings\n",
    "import datetime as dt\n",
    "\n",
    "#Libraries fot visualization \n",
    "import matplotlib.pyplot as plt\n",
    "from pandas.plotting import scatter_matrix\n",
    "%matplotlib inline\n",
    "import seaborn as sns\n",
    "\n",
    "# Standard Machine Learning Model for Comparison \n",
    "from sklearn.linear_model import LinearRegression\n",
    "from sklearn.ensemble import RandomForestClassifier,RandomForestRegressor\n",
    "from sklearn.ensemble import ExtraTreesClassifier\n",
    "from sklearn.ensemble import GradientBoostingClassifier\n",
    "from sklearn.svm import SVC\n",
    "from sklearn.neighbors import KNeighborsClassifier\n",
    "\n",
    "from sklearn.metrics import r2_score,accuracy_score,classification_report\n",
    "\n",
    "# Splitting data for training/testing\n",
    "from sklearn.model_selection import train_test_split,GridSearchCV\n",
    "from sklearn.preprocessing import StandardScaler,LabelEncoder,MinMaxScaler\n",
    "from sklearn.pipeline import Pipeline\n",
    "warnings.filterwarnings(\"ignore\")\n",
    "from sklearn.cluster import KMeans\n",
    "\n",
    "# Importing libraries for neural network\n",
    "from keras.models import Sequential\n",
    "from keras.layers import Dense,LSTM\n",
    "from keras.wrappers.scikit_learn import KerasClassifier,KerasRegressor\n",
    "from sklearn.model_selection import StratifiedKFold\n",
    "from sklearn.model_selection import cross_val_score\n",
    "\n",
    "import xgboost as xgb\n",
    "from sklearn.model_selection import KFold, cross_val_score, train_test_split\n",
    "\n",
    "import xgboost as xgb\n",
    "from eli5.sklearn import PermutationImportance\n",
    "import eli5"
   ]
  },
  {
   "cell_type": "code",
   "execution_count": 2,
   "id": "e26cf4db",
   "metadata": {},
   "outputs": [
    {
     "name": "stdout",
     "output_type": "stream",
     "text": [
      "reading time:  2.9595680236816406 sec\n"
     ]
    }
   ],
   "source": [
    "#reading datas\n",
    "\n",
    "import time\n",
    "start = time.time()\n",
    "data = pd.read_csv(\"/Users/syafaqmuth/Desktop/Data Science/Startup Campus/Assignment #3/olist_customers_dataset.csv\")\n",
    "geo_data = pd.read_csv(\"/Users/syafaqmuth/Desktop/Data Science/Startup Campus/Assignment #3/olist_geolocation_dataset.csv\")\n",
    "order_itemdata = pd.read_csv(\"/Users/syafaqmuth/Desktop/Data Science/Startup Campus/Assignment #3/olist_order_items_dataset.csv\")\n",
    "pay_data = pd.read_csv(\"/Users/syafaqmuth/Desktop/Data Science/Startup Campus/Assignment #3/olist_order_payments_dataset.csv\")\n",
    "rev_data = pd.read_csv(\"/Users/syafaqmuth/Desktop/Data Science/Startup Campus/Assignment #3/olist_order_reviews_dataset.csv\")\n",
    "orders = pd.read_csv(\"/Users/syafaqmuth/Desktop/Data Science/Startup Campus/Assignment #3/olist_orders_dataset.csv\")\n",
    "order_prddata = pd.read_csv(\"/Users/syafaqmuth/Desktop/Data Science/Startup Campus/Assignment #3/olist_products_dataset.csv\")\n",
    "order_selldata = pd.read_csv(\"/Users/syafaqmuth/Desktop/Data Science/Startup Campus/Assignment #3/olist_sellers_dataset.csv\")\n",
    "order_prd_catdata = pd.read_csv(\"/Users/syafaqmuth/Desktop/Data Science/Startup Campus/Assignment #3/product_category_name_translation.csv\")\n",
    "end = time.time()\n",
    "print(\"reading time: \",(end-start),\"sec\")"
   ]
  },
  {
   "cell_type": "markdown",
   "id": "ce5fd26b",
   "metadata": {},
   "source": [
    "## Exploratory Data Analysis (EDA)\n",
    "\n",
    "### Customer Segmentation Analysis with RFM\n",
    "\n",
    "RFM analysis is a method used to analyze customer value. It is commonly used in database marketing and direct marketing and has received particular attention in the retail and professional services industry.\n",
    "\n",
    "3 features to look out for:\n",
    "\n",
    "- Current - number of days since last purchase\n",
    "- Frequency - the number of transactions made during a certain period\n",
    "- Monetary - the amount spent over a certain period of time\n"
   ]
  },
  {
   "cell_type": "markdown",
   "id": "e4581e4a",
   "metadata": {},
   "source": [
    "### Merge Data"
   ]
  },
  {
   "cell_type": "code",
   "execution_count": 3,
   "id": "41cde74d",
   "metadata": {},
   "outputs": [],
   "source": [
    "# Take order id from the number of purchases by customers\n",
    "customer_order=pd.merge(data,orders[['order_id','customer_id','order_purchase_timestamp']],on='customer_id')"
   ]
  },
  {
   "cell_type": "code",
   "execution_count": 4,
   "id": "f4aecf40",
   "metadata": {},
   "outputs": [],
   "source": [
    "# find the total cost of orders based on the same order id\n",
    "paid=pay_data[['order_id','payment_value']].groupby('order_id').sum().reset_index()\n",
    "# Marge total payment of each order to customers who have purchased it which aims to find the total amount of purchases\n",
    "customer_order_rev=pd.merge(customer_order,paid,on='order_id')"
   ]
  },
  {
   "cell_type": "code",
   "execution_count": 5,
   "id": "76601ec6",
   "metadata": {},
   "outputs": [],
   "source": [
    "# delete unused columns\n",
    "customer_order_rev.drop(['customer_zip_code_prefix','customer_city','customer_state'],axis=1,inplace=True)\n",
    "customer_order_rev['order_purchase_timestamp']=pd.to_datetime(customer_order_rev['order_purchase_timestamp']).dt.date"
   ]
  },
  {
   "cell_type": "code",
   "execution_count": 6,
   "id": "da1e5579",
   "metadata": {},
   "outputs": [],
   "source": [
    "# look for data on the last date customers made transactions\n",
    "recency=pd.DataFrame(customer_order_rev.groupby('customer_unique_id')['order_purchase_timestamp'].max())\n",
    "# take the maximum date of purchase made by the customer as the date to calculate the latest transaction data\n",
    "recency['recent_days']=recency['order_purchase_timestamp'].max()-recency['order_purchase_timestamp']\n",
    "recency['recent_days']=recency['recent_days'].dt.days"
   ]
  },
  {
   "cell_type": "code",
   "execution_count": 7,
   "id": "620715f2",
   "metadata": {},
   "outputs": [],
   "source": [
    "# calculate the number of transactions on a unique customer id\n",
    "frequency=pd.DataFrame(customer_order_rev.groupby('customer_unique_id')['customer_id'].count())\n",
    "monetary=pd.DataFrame(customer_order_rev[['customer_unique_id','payment_value']].groupby('customer_unique_id')['payment_value'].sum())\n",
    "\n",
    "df_rfm=pd.merge(recency,frequency,on='customer_unique_id')\n",
    "df_rfm=pd.merge(df_rfm,monetary,on='customer_unique_id')"
   ]
  },
  {
   "cell_type": "code",
   "execution_count": 8,
   "id": "510d6e31",
   "metadata": {},
   "outputs": [
    {
     "data": {
      "text/html": [
       "<div>\n",
       "<style scoped>\n",
       "    .dataframe tbody tr th:only-of-type {\n",
       "        vertical-align: middle;\n",
       "    }\n",
       "\n",
       "    .dataframe tbody tr th {\n",
       "        vertical-align: top;\n",
       "    }\n",
       "\n",
       "    .dataframe thead th {\n",
       "        text-align: right;\n",
       "    }\n",
       "</style>\n",
       "<table border=\"1\" class=\"dataframe\">\n",
       "  <thead>\n",
       "    <tr style=\"text-align: right;\">\n",
       "      <th></th>\n",
       "      <th>Recency</th>\n",
       "      <th>Frequency</th>\n",
       "      <th>Monetary</th>\n",
       "    </tr>\n",
       "    <tr>\n",
       "      <th>Cust_unique_Id</th>\n",
       "      <th></th>\n",
       "      <th></th>\n",
       "      <th></th>\n",
       "    </tr>\n",
       "  </thead>\n",
       "  <tbody>\n",
       "    <tr>\n",
       "      <th>0000366f3b9a7992bf8c76cfdf3221e2</th>\n",
       "      <td>160</td>\n",
       "      <td>1</td>\n",
       "      <td>141.90</td>\n",
       "    </tr>\n",
       "    <tr>\n",
       "      <th>0000b849f77a49e4a4ce2b2a4ca5be3f</th>\n",
       "      <td>163</td>\n",
       "      <td>1</td>\n",
       "      <td>27.19</td>\n",
       "    </tr>\n",
       "    <tr>\n",
       "      <th>0000f46a3911fa3c0805444483337064</th>\n",
       "      <td>586</td>\n",
       "      <td>1</td>\n",
       "      <td>86.22</td>\n",
       "    </tr>\n",
       "    <tr>\n",
       "      <th>0000f6ccb0745a6a4b88665a16c9f078</th>\n",
       "      <td>370</td>\n",
       "      <td>1</td>\n",
       "      <td>43.62</td>\n",
       "    </tr>\n",
       "    <tr>\n",
       "      <th>0004aac84e0df4da2b147fca70cf8255</th>\n",
       "      <td>337</td>\n",
       "      <td>1</td>\n",
       "      <td>196.89</td>\n",
       "    </tr>\n",
       "    <tr>\n",
       "      <th>...</th>\n",
       "      <td>...</td>\n",
       "      <td>...</td>\n",
       "      <td>...</td>\n",
       "    </tr>\n",
       "    <tr>\n",
       "      <th>fffcf5a5ff07b0908bd4e2dbc735a684</th>\n",
       "      <td>496</td>\n",
       "      <td>1</td>\n",
       "      <td>2067.42</td>\n",
       "    </tr>\n",
       "    <tr>\n",
       "      <th>fffea47cd6d3cc0a88bd621562a9d061</th>\n",
       "      <td>311</td>\n",
       "      <td>1</td>\n",
       "      <td>84.58</td>\n",
       "    </tr>\n",
       "    <tr>\n",
       "      <th>ffff371b4d645b6ecea244b27531430a</th>\n",
       "      <td>617</td>\n",
       "      <td>1</td>\n",
       "      <td>112.46</td>\n",
       "    </tr>\n",
       "    <tr>\n",
       "      <th>ffff5962728ec6157033ef9805bacc48</th>\n",
       "      <td>168</td>\n",
       "      <td>1</td>\n",
       "      <td>133.69</td>\n",
       "    </tr>\n",
       "    <tr>\n",
       "      <th>ffffd2657e2aad2907e67c3e9daecbeb</th>\n",
       "      <td>533</td>\n",
       "      <td>1</td>\n",
       "      <td>71.56</td>\n",
       "    </tr>\n",
       "  </tbody>\n",
       "</table>\n",
       "<p>96095 rows × 3 columns</p>\n",
       "</div>"
      ],
      "text/plain": [
       "                                  Recency  Frequency  Monetary\n",
       "Cust_unique_Id                                                \n",
       "0000366f3b9a7992bf8c76cfdf3221e2      160          1    141.90\n",
       "0000b849f77a49e4a4ce2b2a4ca5be3f      163          1     27.19\n",
       "0000f46a3911fa3c0805444483337064      586          1     86.22\n",
       "0000f6ccb0745a6a4b88665a16c9f078      370          1     43.62\n",
       "0004aac84e0df4da2b147fca70cf8255      337          1    196.89\n",
       "...                                   ...        ...       ...\n",
       "fffcf5a5ff07b0908bd4e2dbc735a684      496          1   2067.42\n",
       "fffea47cd6d3cc0a88bd621562a9d061      311          1     84.58\n",
       "ffff371b4d645b6ecea244b27531430a      617          1    112.46\n",
       "ffff5962728ec6157033ef9805bacc48      168          1    133.69\n",
       "ffffd2657e2aad2907e67c3e9daecbeb      533          1     71.56\n",
       "\n",
       "[96095 rows x 3 columns]"
      ]
     },
     "execution_count": 8,
     "metadata": {},
     "output_type": "execute_result"
    }
   ],
   "source": [
    "df_rfm.drop(['order_purchase_timestamp'],axis=1,inplace=True)\n",
    "df_rfm.reset_index(inplace=True)\n",
    "df_rfm.columns=['Cust_unique_Id','Recency','Frequency','Monetary']\n",
    "df_rfm.set_index('Cust_unique_Id',inplace=True)\n",
    "df_rfm"
   ]
  },
  {
   "cell_type": "code",
   "execution_count": 9,
   "id": "52205be0",
   "metadata": {},
   "outputs": [
    {
     "data": {
      "text/html": [
       "<style type=\"text/css\">\n",
       "#T_52ed8_row0_col0, #T_52ed8_row0_col1, #T_52ed8_row0_col2 {\n",
       "  background-color: #023858;\n",
       "  color: #f1f1f1;\n",
       "}\n",
       "#T_52ed8_row1_col0, #T_52ed8_row1_col1, #T_52ed8_row1_col2, #T_52ed8_row2_col0, #T_52ed8_row2_col1, #T_52ed8_row2_col2, #T_52ed8_row3_col0, #T_52ed8_row3_col1, #T_52ed8_row3_col2, #T_52ed8_row4_col0, #T_52ed8_row4_col1, #T_52ed8_row4_col2, #T_52ed8_row5_col0, #T_52ed8_row5_col1, #T_52ed8_row5_col2, #T_52ed8_row6_col1, #T_52ed8_row6_col2, #T_52ed8_row7_col1 {\n",
       "  background-color: #fff7fb;\n",
       "  color: #000000;\n",
       "}\n",
       "#T_52ed8_row6_col0 {\n",
       "  background-color: #fef6fb;\n",
       "  color: #000000;\n",
       "}\n",
       "#T_52ed8_row7_col0 {\n",
       "  background-color: #fef6fa;\n",
       "  color: #000000;\n",
       "}\n",
       "#T_52ed8_row7_col2 {\n",
       "  background-color: #e8e4f0;\n",
       "  color: #000000;\n",
       "}\n",
       "</style>\n",
       "<table id=\"T_52ed8\">\n",
       "  <thead>\n",
       "    <tr>\n",
       "      <th class=\"blank level0\" >&nbsp;</th>\n",
       "      <th id=\"T_52ed8_level0_col0\" class=\"col_heading level0 col0\" >Recency</th>\n",
       "      <th id=\"T_52ed8_level0_col1\" class=\"col_heading level0 col1\" >Frequency</th>\n",
       "      <th id=\"T_52ed8_level0_col2\" class=\"col_heading level0 col2\" >Monetary</th>\n",
       "    </tr>\n",
       "  </thead>\n",
       "  <tbody>\n",
       "    <tr>\n",
       "      <th id=\"T_52ed8_level0_row0\" class=\"row_heading level0 row0\" >count</th>\n",
       "      <td id=\"T_52ed8_row0_col0\" class=\"data row0 col0\" >96095.000000</td>\n",
       "      <td id=\"T_52ed8_row0_col1\" class=\"data row0 col1\" >96095.000000</td>\n",
       "      <td id=\"T_52ed8_row0_col2\" class=\"data row0 col2\" >96095.000000</td>\n",
       "    </tr>\n",
       "    <tr>\n",
       "      <th id=\"T_52ed8_level0_row1\" class=\"row_heading level0 row1\" >mean</th>\n",
       "      <td id=\"T_52ed8_row1_col0\" class=\"data row1 col0\" >288.104000</td>\n",
       "      <td id=\"T_52ed8_row1_col1\" class=\"data row1 col1\" >1.035000</td>\n",
       "      <td id=\"T_52ed8_row1_col2\" class=\"data row1 col2\" >166.594000</td>\n",
       "    </tr>\n",
       "    <tr>\n",
       "      <th id=\"T_52ed8_level0_row2\" class=\"row_heading level0 row2\" >std</th>\n",
       "      <td id=\"T_52ed8_row2_col0\" class=\"data row2 col0\" >153.411000</td>\n",
       "      <td id=\"T_52ed8_row2_col1\" class=\"data row2 col1\" >0.214000</td>\n",
       "      <td id=\"T_52ed8_row2_col2\" class=\"data row2 col2\" >231.429000</td>\n",
       "    </tr>\n",
       "    <tr>\n",
       "      <th id=\"T_52ed8_level0_row3\" class=\"row_heading level0 row3\" >min</th>\n",
       "      <td id=\"T_52ed8_row3_col0\" class=\"data row3 col0\" >0.000000</td>\n",
       "      <td id=\"T_52ed8_row3_col1\" class=\"data row3 col1\" >1.000000</td>\n",
       "      <td id=\"T_52ed8_row3_col2\" class=\"data row3 col2\" >0.000000</td>\n",
       "    </tr>\n",
       "    <tr>\n",
       "      <th id=\"T_52ed8_level0_row4\" class=\"row_heading level0 row4\" >25%</th>\n",
       "      <td id=\"T_52ed8_row4_col0\" class=\"data row4 col0\" >164.000000</td>\n",
       "      <td id=\"T_52ed8_row4_col1\" class=\"data row4 col1\" >1.000000</td>\n",
       "      <td id=\"T_52ed8_row4_col2\" class=\"data row4 col2\" >63.120000</td>\n",
       "    </tr>\n",
       "    <tr>\n",
       "      <th id=\"T_52ed8_level0_row5\" class=\"row_heading level0 row5\" >50%</th>\n",
       "      <td id=\"T_52ed8_row5_col0\" class=\"data row5 col0\" >269.000000</td>\n",
       "      <td id=\"T_52ed8_row5_col1\" class=\"data row5 col1\" >1.000000</td>\n",
       "      <td id=\"T_52ed8_row5_col2\" class=\"data row5 col2\" >108.000000</td>\n",
       "    </tr>\n",
       "    <tr>\n",
       "      <th id=\"T_52ed8_level0_row6\" class=\"row_heading level0 row6\" >75%</th>\n",
       "      <td id=\"T_52ed8_row6_col0\" class=\"data row6 col0\" >397.000000</td>\n",
       "      <td id=\"T_52ed8_row6_col1\" class=\"data row6 col1\" >1.000000</td>\n",
       "      <td id=\"T_52ed8_row6_col2\" class=\"data row6 col2\" >183.530000</td>\n",
       "    </tr>\n",
       "    <tr>\n",
       "      <th id=\"T_52ed8_level0_row7\" class=\"row_heading level0 row7\" >max</th>\n",
       "      <td id=\"T_52ed8_row7_col0\" class=\"data row7 col0\" >773.000000</td>\n",
       "      <td id=\"T_52ed8_row7_col1\" class=\"data row7 col1\" >17.000000</td>\n",
       "      <td id=\"T_52ed8_row7_col2\" class=\"data row7 col2\" >13664.080000</td>\n",
       "    </tr>\n",
       "  </tbody>\n",
       "</table>\n"
      ],
      "text/plain": [
       "<pandas.io.formats.style.Styler at 0x109587f70>"
      ]
     },
     "execution_count": 9,
     "metadata": {},
     "output_type": "execute_result"
    }
   ],
   "source": [
    "df_rfm.describe().round(3).style.background_gradient()"
   ]
  },
  {
   "cell_type": "code",
   "execution_count": 10,
   "id": "d965439b",
   "metadata": {},
   "outputs": [
    {
     "data": {
      "text/plain": [
       "3.1187886986835944"
      ]
     },
     "execution_count": 10,
     "metadata": {},
     "output_type": "execute_result"
    }
   ],
   "source": [
    "(df_rfm[df_rfm['Frequency']>1].shape[0]/96095)*100"
   ]
  },
  {
   "cell_type": "markdown",
   "id": "313a021e",
   "metadata": {},
   "source": [
    "Based on exploratory data, it is stated that 3% are customers who shop repeatedly while 97% are customers who make 1 transaction at a time."
   ]
  },
  {
   "cell_type": "markdown",
   "id": "68d7b4d6",
   "metadata": {},
   "source": [
    "### Distribution RFM Visualization"
   ]
  },
  {
   "cell_type": "code",
   "execution_count": 11,
   "id": "f84e8105",
   "metadata": {},
   "outputs": [
    {
     "data": {
      "image/png": "[encoded data removed]",
      "text/plain": [
       "<Figure size 1200x1000 with 3 Axes>"
      ]
     },
     "metadata": {},
     "output_type": "display_data"
    }
   ],
   "source": [
    "plt.figure(figsize=(12,10))\n",
    "plt.subplot(3, 1, 1); sns.distplot(df_rfm['Recency'],kde=False)\n",
    "plt.subplot(3, 1, 2); sns.distplot(df_rfm['Frequency'],kde=False)\n",
    "plt.subplot(3, 1, 3); sns.distplot(df_rfm['Monetary'],kde=False)\n",
    "plt.show()"
   ]
  },
  {
   "cell_type": "markdown",
   "id": "1703801b",
   "metadata": {},
   "source": [
    "### Quartiles\n",
    "\n",
    "The next way is to find the segmentation of customers by using quartiles. In this case, scores are assigned from 1 - 4 for Recency, Frequency, and Monetary. For the value of 4 is the best value while the value of 1 is the worst. The value of the RFM will finally be calculated by combining the number of individual RFM scores."
   ]
  },
  {
   "cell_type": "code",
   "execution_count": 12,
   "id": "da1519a7",
   "metadata": {},
   "outputs": [
    {
     "data": {
      "text/plain": [
       "{'Recency': {0.25: 164.0, 0.5: 269.0, 0.75: 397.0},\n",
       " 'Frequency': {0.25: 1.0, 0.5: 1.0, 0.75: 1.0},\n",
       " 'Monetary': {0.25: 63.12, 0.5: 108.0, 0.75: 183.53}}"
      ]
     },
     "execution_count": 12,
     "metadata": {},
     "output_type": "execute_result"
    }
   ],
   "source": [
    "quantiles = df_rfm.quantile(q=[0.25,0.5,0.75])\n",
    "quantiles.to_dict()"
   ]
  },
  {
   "cell_type": "code",
   "execution_count": 13,
   "id": "9c7ee347",
   "metadata": {},
   "outputs": [],
   "source": [
    "def RScore(x,p,d):\n",
    "    if x <= d[p][0.25]:\n",
    "        return 4\n",
    "    elif x <= d[p][0.50]:\n",
    "        return 3\n",
    "    elif x <= d[p][0.75]: \n",
    "        return 2\n",
    "    else:\n",
    "        return 1\n",
    "\n",
    "def FMScore(x,p,d):\n",
    "    if x <= d[p][0.25]:\n",
    "        return 1\n",
    "    elif x <= d[p][0.50]:\n",
    "        return 2\n",
    "    elif x <= d[p][0.75]: \n",
    "        return 3\n",
    "    else:\n",
    "        return 4"
   ]
  },
  {
   "cell_type": "code",
   "execution_count": 14,
   "id": "290d36d6",
   "metadata": {},
   "outputs": [
    {
     "data": {
      "text/html": [
       "<div>\n",
       "<style scoped>\n",
       "    .dataframe tbody tr th:only-of-type {\n",
       "        vertical-align: middle;\n",
       "    }\n",
       "\n",
       "    .dataframe tbody tr th {\n",
       "        vertical-align: top;\n",
       "    }\n",
       "\n",
       "    .dataframe thead th {\n",
       "        text-align: right;\n",
       "    }\n",
       "</style>\n",
       "<table border=\"1\" class=\"dataframe\">\n",
       "  <thead>\n",
       "    <tr style=\"text-align: right;\">\n",
       "      <th></th>\n",
       "      <th>Recency</th>\n",
       "      <th>Frequency</th>\n",
       "      <th>Monetary</th>\n",
       "      <th>R_Quartile</th>\n",
       "      <th>F_Quartile</th>\n",
       "      <th>M_Quartile</th>\n",
       "      <th>RFMScore</th>\n",
       "    </tr>\n",
       "    <tr>\n",
       "      <th>Cust_unique_Id</th>\n",
       "      <th></th>\n",
       "      <th></th>\n",
       "      <th></th>\n",
       "      <th></th>\n",
       "      <th></th>\n",
       "      <th></th>\n",
       "      <th></th>\n",
       "    </tr>\n",
       "  </thead>\n",
       "  <tbody>\n",
       "    <tr>\n",
       "      <th>0000366f3b9a7992bf8c76cfdf3221e2</th>\n",
       "      <td>160</td>\n",
       "      <td>1</td>\n",
       "      <td>141.90</td>\n",
       "      <td>4</td>\n",
       "      <td>1</td>\n",
       "      <td>3</td>\n",
       "      <td>413</td>\n",
       "    </tr>\n",
       "    <tr>\n",
       "      <th>0000b849f77a49e4a4ce2b2a4ca5be3f</th>\n",
       "      <td>163</td>\n",
       "      <td>1</td>\n",
       "      <td>27.19</td>\n",
       "      <td>4</td>\n",
       "      <td>1</td>\n",
       "      <td>1</td>\n",
       "      <td>411</td>\n",
       "    </tr>\n",
       "    <tr>\n",
       "      <th>0000f46a3911fa3c0805444483337064</th>\n",
       "      <td>586</td>\n",
       "      <td>1</td>\n",
       "      <td>86.22</td>\n",
       "      <td>1</td>\n",
       "      <td>1</td>\n",
       "      <td>2</td>\n",
       "      <td>112</td>\n",
       "    </tr>\n",
       "    <tr>\n",
       "      <th>0000f6ccb0745a6a4b88665a16c9f078</th>\n",
       "      <td>370</td>\n",
       "      <td>1</td>\n",
       "      <td>43.62</td>\n",
       "      <td>2</td>\n",
       "      <td>1</td>\n",
       "      <td>1</td>\n",
       "      <td>211</td>\n",
       "    </tr>\n",
       "    <tr>\n",
       "      <th>0004aac84e0df4da2b147fca70cf8255</th>\n",
       "      <td>337</td>\n",
       "      <td>1</td>\n",
       "      <td>196.89</td>\n",
       "      <td>2</td>\n",
       "      <td>1</td>\n",
       "      <td>4</td>\n",
       "      <td>214</td>\n",
       "    </tr>\n",
       "  </tbody>\n",
       "</table>\n",
       "</div>"
      ],
      "text/plain": [
       "                                  Recency  Frequency  Monetary  R_Quartile  \\\n",
       "Cust_unique_Id                                                               \n",
       "0000366f3b9a7992bf8c76cfdf3221e2      160          1    141.90           4   \n",
       "0000b849f77a49e4a4ce2b2a4ca5be3f      163          1     27.19           4   \n",
       "0000f46a3911fa3c0805444483337064      586          1     86.22           1   \n",
       "0000f6ccb0745a6a4b88665a16c9f078      370          1     43.62           2   \n",
       "0004aac84e0df4da2b147fca70cf8255      337          1    196.89           2   \n",
       "\n",
       "                                  F_Quartile  M_Quartile RFMScore  \n",
       "Cust_unique_Id                                                     \n",
       "0000366f3b9a7992bf8c76cfdf3221e2           1           3      413  \n",
       "0000b849f77a49e4a4ce2b2a4ca5be3f           1           1      411  \n",
       "0000f46a3911fa3c0805444483337064           1           2      112  \n",
       "0000f6ccb0745a6a4b88665a16c9f078           1           1      211  \n",
       "0004aac84e0df4da2b147fca70cf8255           1           4      214  "
      ]
     },
     "execution_count": 14,
     "metadata": {},
     "output_type": "execute_result"
    }
   ],
   "source": [
    "# create a table for RFM Segmentation values\n",
    "rfm_segmentation = df_rfm\n",
    "rfm_segmentation['R_Quartile'] = rfm_segmentation['Recency'].apply(RScore, args=('Recency',quantiles,))\n",
    "rfm_segmentation['F_Quartile'] = rfm_segmentation['Frequency'].apply(FMScore, args=('Frequency',quantiles,))\n",
    "rfm_segmentation['M_Quartile'] = rfm_segmentation['Monetary'].apply(FMScore, args=('Monetary',quantiles,))\n",
    "rfm_segmentation['RFMScore'] = rfm_segmentation.R_Quartile.map(str) \\\n",
    "                            + rfm_segmentation.F_Quartile.map(str) \\\n",
    "                            + rfm_segmentation.M_Quartile.map(str)\n",
    "rfm_segmentation.head()"
   ]
  },
  {
   "cell_type": "code",
   "execution_count": 15,
   "id": "f82ddbfd",
   "metadata": {},
   "outputs": [
    {
     "name": "stdout",
     "output_type": "stream",
     "text": [
      "Best Customers:  566\n",
      "Loyal Customers:  2997\n",
      "Big Spenders:  24021\n",
      "Almost Lost:  449\n",
      "Lost Customers:  358\n",
      "Lost Cheap Customers:  6135\n"
     ]
    }
   ],
   "source": [
    "# find the number of customers in each segment\n",
    "print(\"Best Customers: \",len(rfm_segmentation[rfm_segmentation['RFMScore']=='444']))\n",
    "print('Loyal Customers: ',len(rfm_segmentation[rfm_segmentation['F_Quartile']==4]))\n",
    "print(\"Big Spenders: \",len(rfm_segmentation[rfm_segmentation['M_Quartile']==4]))\n",
    "print('Almost Lost: ', len(rfm_segmentation[rfm_segmentation['RFMScore']=='244']))\n",
    "print('Lost Customers: ',len(rfm_segmentation[rfm_segmentation['RFMScore']=='144']))\n",
    "print('Lost Cheap Customers: ',len(rfm_segmentation[rfm_segmentation['RFMScore']=='111']))"
   ]
  },
  {
   "cell_type": "markdown",
   "id": "8cf4c101",
   "metadata": {},
   "source": [
    "### Looking for active and inactive customers using the correlation matrix"
   ]
  },
  {
   "cell_type": "code",
   "execution_count": 16,
   "id": "7c6b7d39",
   "metadata": {},
   "outputs": [
    {
     "data": {
      "text/plain": [
       "<AxesSubplot:>"
      ]
     },
     "execution_count": 16,
     "metadata": {},
     "output_type": "execute_result"
    },
    {
     "data": {
      "image/png": "[encoded data removed]",
      "text/plain": [
       "<Figure size 640x480 with 2 Axes>"
      ]
     },
     "metadata": {},
     "output_type": "display_data"
    }
   ],
   "source": [
    "best_cust=rfm_segmentation[rfm_segmentation['RFMScore']=='444']\n",
    "corr_matrix = best_cust.corr()\n",
    "sns.heatmap(corr_matrix)"
   ]
  },
  {
   "cell_type": "markdown",
   "id": "9a39b01b",
   "metadata": {},
   "source": [
    "### Looking for Priority Seller\n",
    "\n",
    "There are 4 selling factors that can be prioritized:\n",
    "- Total number of sales made\n",
    "- Average time it takes the seller to deliver to the operator\n",
    "- Amount made in total sales\n",
    "- Average review received for orders"
   ]
  },
  {
   "cell_type": "code",
   "execution_count": 17,
   "id": "b08227dc",
   "metadata": {},
   "outputs": [],
   "source": [
    "# marge data sellers with orderid\n",
    "seller_seg=pd.merge(order_itemdata[['order_id','seller_id','price']],orders[['order_id','order_purchase_timestamp','order_delivered_carrier_date']],on='order_id')\n",
    "# marge data review score with order and order id\n",
    "seller_seg=pd.merge(seller_seg,rev_data[['order_id','review_score']],on='order_id')"
   ]
  },
  {
   "cell_type": "code",
   "execution_count": 18,
   "id": "27855a3a",
   "metadata": {},
   "outputs": [],
   "source": [
    "# changing dates format with datetime\n",
    "seller_seg['order_purchase_timestamp']=pd.to_datetime(seller_seg['order_purchase_timestamp']).dt.date\n",
    "seller_seg['order_delivered_carrier_date']=pd.to_datetime(seller_seg['order_delivered_carrier_date']).dt.date\n",
    "seller_seg['days_to_del']=(seller_seg['order_delivered_carrier_date']-seller_seg['order_purchase_timestamp']).dt.days"
   ]
  },
  {
   "cell_type": "code",
   "execution_count": 19,
   "id": "05a0a17f",
   "metadata": {},
   "outputs": [],
   "source": [
    "# delete the unused columns\n",
    "seller_seg.drop(['order_purchase_timestamp','order_delivered_carrier_date'],axis=1,inplace=True)\n",
    "\n",
    "# removing the wrong date\n",
    "seller_seg_1=seller_seg[seller_seg['days_to_del']>=0]"
   ]
  },
  {
   "cell_type": "code",
   "execution_count": 20,
   "id": "38913b6a",
   "metadata": {},
   "outputs": [],
   "source": [
    "seller_seg_2=seller_seg_1.groupby('seller_id').agg({'order_id':'count','price':'sum','review_score':'mean','days_to_del':'mean'})\n",
    "seller_seg_2.columns=['Tot_sales','Tot_amount','Avg_review','Avg_delivery']"
   ]
  },
  {
   "cell_type": "code",
   "execution_count": 21,
   "id": "e9612b9d",
   "metadata": {},
   "outputs": [
    {
     "data": {
      "text/plain": [
       "{'Tot_sales': {0.25: 2.0, 0.5: 8.0, 0.75: 26.0},\n",
       " 'Tot_amount': {0.25: 219.875, 0.5: 849.245, 0.75: 3475.4574999999995},\n",
       " 'Avg_review': {0.25: 3.869565217391304, 0.5: 4.25, 0.75: 4.668103448275862},\n",
       " 'Avg_delivery': {0.25: 1.8, 0.5: 2.6516544117647056, 0.75: 4.0}}"
      ]
     },
     "execution_count": 21,
     "metadata": {},
     "output_type": "execute_result"
    }
   ],
   "source": [
    "# fill in the missing value with the average value\n",
    "seller_seg_2['Avg_delivery'].fillna(seller_seg_2['Avg_delivery'].mean(),inplace=True)\n",
    "quantiles = seller_seg_2.quantile(q=[0.25,0.5,0.75])\n",
    "quantiles.to_dict()"
   ]
  },
  {
   "cell_type": "code",
   "execution_count": 22,
   "id": "d3b9cd79",
   "metadata": {},
   "outputs": [],
   "source": [
    "seller_seg_2['Tot_sales_Quartile'] = seller_seg_2['Tot_sales'].apply(FMScore, args=('Tot_sales',quantiles,))\n",
    "seller_seg_2['Tot_amount_Quartile'] = seller_seg_2['Tot_amount'].apply(FMScore, args=('Tot_amount',quantiles,))\n",
    "seller_seg_2['Avg_review_Quartile'] = seller_seg_2['Avg_review'].apply(FMScore, args=('Avg_review',quantiles,))\n",
    "seller_seg_2['Avg_delivery_Quartile'] = seller_seg_2['Avg_delivery'].apply(RScore, args=('Avg_delivery',quantiles,))"
   ]
  },
  {
   "cell_type": "code",
   "execution_count": 23,
   "id": "731cf91f",
   "metadata": {},
   "outputs": [
    {
     "data": {
      "text/html": [
       "<div>\n",
       "<style scoped>\n",
       "    .dataframe tbody tr th:only-of-type {\n",
       "        vertical-align: middle;\n",
       "    }\n",
       "\n",
       "    .dataframe tbody tr th {\n",
       "        vertical-align: top;\n",
       "    }\n",
       "\n",
       "    .dataframe thead th {\n",
       "        text-align: right;\n",
       "    }\n",
       "</style>\n",
       "<table border=\"1\" class=\"dataframe\">\n",
       "  <thead>\n",
       "    <tr style=\"text-align: right;\">\n",
       "      <th></th>\n",
       "      <th>Tot_sales</th>\n",
       "      <th>Tot_amount</th>\n",
       "      <th>Avg_review</th>\n",
       "      <th>Avg_delivery</th>\n",
       "      <th>Tot_sales_Quartile</th>\n",
       "      <th>Tot_amount_Quartile</th>\n",
       "      <th>Avg_review_Quartile</th>\n",
       "      <th>Avg_delivery_Quartile</th>\n",
       "      <th>SellerScore</th>\n",
       "    </tr>\n",
       "    <tr>\n",
       "      <th>seller_id</th>\n",
       "      <th></th>\n",
       "      <th></th>\n",
       "      <th></th>\n",
       "      <th></th>\n",
       "      <th></th>\n",
       "      <th></th>\n",
       "      <th></th>\n",
       "      <th></th>\n",
       "      <th></th>\n",
       "    </tr>\n",
       "  </thead>\n",
       "  <tbody>\n",
       "    <tr>\n",
       "      <th>0015a82c2db000af6aaaf3ae2ecb0532</th>\n",
       "      <td>3</td>\n",
       "      <td>2685.00</td>\n",
       "      <td>3.666667</td>\n",
       "      <td>3.333333</td>\n",
       "      <td>2</td>\n",
       "      <td>3</td>\n",
       "      <td>1</td>\n",
       "      <td>2</td>\n",
       "      <td>2312</td>\n",
       "    </tr>\n",
       "    <tr>\n",
       "      <th>001cca7ae9ae17fb1caed9dfb1094831</th>\n",
       "      <td>236</td>\n",
       "      <td>24770.03</td>\n",
       "      <td>3.902542</td>\n",
       "      <td>2.614407</td>\n",
       "      <td>4</td>\n",
       "      <td>4</td>\n",
       "      <td>2</td>\n",
       "      <td>3</td>\n",
       "      <td>4423</td>\n",
       "    </tr>\n",
       "    <tr>\n",
       "      <th>002100f778ceb8431b7a1020ff7ab48f</th>\n",
       "      <td>56</td>\n",
       "      <td>1254.40</td>\n",
       "      <td>3.982143</td>\n",
       "      <td>4.357143</td>\n",
       "      <td>4</td>\n",
       "      <td>3</td>\n",
       "      <td>2</td>\n",
       "      <td>1</td>\n",
       "      <td>4321</td>\n",
       "    </tr>\n",
       "    <tr>\n",
       "      <th>003554e2dce176b5555353e4f3555ac8</th>\n",
       "      <td>1</td>\n",
       "      <td>120.00</td>\n",
       "      <td>5.000000</td>\n",
       "      <td>0.000000</td>\n",
       "      <td>1</td>\n",
       "      <td>1</td>\n",
       "      <td>4</td>\n",
       "      <td>4</td>\n",
       "      <td>1144</td>\n",
       "    </tr>\n",
       "    <tr>\n",
       "      <th>004c9cd9d87a3c30c522c48c4fc07416</th>\n",
       "      <td>173</td>\n",
       "      <td>20234.21</td>\n",
       "      <td>4.132948</td>\n",
       "      <td>1.670520</td>\n",
       "      <td>4</td>\n",
       "      <td>4</td>\n",
       "      <td>2</td>\n",
       "      <td>4</td>\n",
       "      <td>4424</td>\n",
       "    </tr>\n",
       "  </tbody>\n",
       "</table>\n",
       "</div>"
      ],
      "text/plain": [
       "                                  Tot_sales  Tot_amount  Avg_review  \\\n",
       "seller_id                                                             \n",
       "0015a82c2db000af6aaaf3ae2ecb0532          3     2685.00    3.666667   \n",
       "001cca7ae9ae17fb1caed9dfb1094831        236    24770.03    3.902542   \n",
       "002100f778ceb8431b7a1020ff7ab48f         56     1254.40    3.982143   \n",
       "003554e2dce176b5555353e4f3555ac8          1      120.00    5.000000   \n",
       "004c9cd9d87a3c30c522c48c4fc07416        173    20234.21    4.132948   \n",
       "\n",
       "                                  Avg_delivery  Tot_sales_Quartile  \\\n",
       "seller_id                                                            \n",
       "0015a82c2db000af6aaaf3ae2ecb0532      3.333333                   2   \n",
       "001cca7ae9ae17fb1caed9dfb1094831      2.614407                   4   \n",
       "002100f778ceb8431b7a1020ff7ab48f      4.357143                   4   \n",
       "003554e2dce176b5555353e4f3555ac8      0.000000                   1   \n",
       "004c9cd9d87a3c30c522c48c4fc07416      1.670520                   4   \n",
       "\n",
       "                                  Tot_amount_Quartile  Avg_review_Quartile  \\\n",
       "seller_id                                                                    \n",
       "0015a82c2db000af6aaaf3ae2ecb0532                    3                    1   \n",
       "001cca7ae9ae17fb1caed9dfb1094831                    4                    2   \n",
       "002100f778ceb8431b7a1020ff7ab48f                    3                    2   \n",
       "003554e2dce176b5555353e4f3555ac8                    1                    4   \n",
       "004c9cd9d87a3c30c522c48c4fc07416                    4                    2   \n",
       "\n",
       "                                  Avg_delivery_Quartile SellerScore  \n",
       "seller_id                                                            \n",
       "0015a82c2db000af6aaaf3ae2ecb0532                      2        2312  \n",
       "001cca7ae9ae17fb1caed9dfb1094831                      3        4423  \n",
       "002100f778ceb8431b7a1020ff7ab48f                      1        4321  \n",
       "003554e2dce176b5555353e4f3555ac8                      4        1144  \n",
       "004c9cd9d87a3c30c522c48c4fc07416                      4        4424  "
      ]
     },
     "execution_count": 23,
     "metadata": {},
     "output_type": "execute_result"
    }
   ],
   "source": [
    "seller_seg_2['SellerScore'] = seller_seg_2['Tot_sales_Quartile'].map(str) \\\n",
    "                            + seller_seg_2['Tot_amount_Quartile'].map(str) \\\n",
    "                            + seller_seg_2['Avg_review_Quartile'] .map(str) \\\n",
    "                            + seller_seg_2['Avg_delivery_Quartile'].map(str)\n",
    "seller_seg_2.head()"
   ]
  },
  {
   "cell_type": "code",
   "execution_count": 24,
   "id": "3a6921cb",
   "metadata": {},
   "outputs": [
    {
     "name": "stdout",
     "output_type": "stream",
     "text": [
      "Best Sellers:  5\n",
      "highest Reviewed Sellers:  743\n",
      "Fastest delivering sellers:  751\n"
     ]
    }
   ],
   "source": [
    "# looking for sellers based on Best Sellers, highest Reviewed Sellers, Fastest delivering sellers\n",
    "\n",
    "print(\"Best Sellers: \",len(seller_seg_2[seller_seg_2['SellerScore']=='4444']))\n",
    "print('highest Reviewed Sellers: ',len(seller_seg_2[seller_seg_2['Avg_review_Quartile']==4]))\n",
    "print(\"Fastest delivering sellers: \",len(seller_seg_2[seller_seg_2['Avg_delivery_Quartile']==4]))"
   ]
  },
  {
   "cell_type": "code",
   "execution_count": 25,
   "id": "9300c911",
   "metadata": {},
   "outputs": [
    {
     "data": {
      "text/plain": [
       "252"
      ]
     },
     "execution_count": 25,
     "metadata": {},
     "output_type": "execute_result"
    }
   ],
   "source": [
    "Fastest_delivering =seller_seg_2[seller_seg_2['Avg_delivery_Quartile']==4].reset_index()\n",
    "highest_Reviewed=seller_seg_2[seller_seg_2['Avg_review_Quartile']==4].reset_index()\n",
    "len(set(list(Fastest_delivering['seller_id'])).intersection(highest_Reviewed['seller_id'].tolist()))"
   ]
  },
  {
   "cell_type": "code",
   "execution_count": 26,
   "id": "0a0565e3",
   "metadata": {},
   "outputs": [
    {
     "data": {
      "text/plain": [
       "<AxesSubplot:>"
      ]
     },
     "execution_count": 26,
     "metadata": {},
     "output_type": "execute_result"
    },
    {
     "data": {
      "image/png": "[encoded data removed]",
      "text/plain": [
       "<Figure size 640x480 with 2 Axes>"
      ]
     },
     "metadata": {},
     "output_type": "display_data"
    }
   ],
   "source": [
    "# visualization of best seller\n",
    "best_cust=seller_seg_2[seller_seg_2['SellerScore']=='4444']\n",
    "# calculate and show correlations\n",
    "corr_matrix = best_cust.corr()\n",
    "sns.heatmap(corr_matrix)"
   ]
  },
  {
   "cell_type": "markdown",
   "id": "b8e81003",
   "metadata": {},
   "source": [
    "## Dataset Preparation"
   ]
  },
  {
   "cell_type": "code",
   "execution_count": 27,
   "id": "b7d90c3f",
   "metadata": {},
   "outputs": [],
   "source": [
    "df1=pd.merge(data.drop(columns=['customer_zip_code_prefix']),orders[['customer_id','order_id','order_purchase_timestamp']],on='customer_id')\n",
    "df2=pd.merge(df1,rev_data[['order_id','review_score']],on='order_id')\n",
    "paid=pay_data[['order_id','payment_value']].groupby('order_id').sum().reset_index()\n",
    "df3=pd.merge(df2,paid,on='order_id')\n",
    "df3['order_purchase_timestamp']=pd.to_datetime(df3['order_purchase_timestamp']).dt.date"
   ]
  },
  {
   "cell_type": "code",
   "execution_count": 28,
   "id": "df90ccaa",
   "metadata": {},
   "outputs": [],
   "source": [
    "number_of_days_for_purchase=180\n",
    "max_date_in_data= df3['order_purchase_timestamp'].max()\n",
    "data_split_date=max_date_in_data-dt.timedelta(days=number_of_days_for_purchase)"
   ]
  },
  {
   "cell_type": "code",
   "execution_count": 29,
   "id": "56603e11",
   "metadata": {},
   "outputs": [],
   "source": [
    "df_full=df3[df3['order_purchase_timestamp']<=data_split_date]\n",
    "df_last=df3[df3['order_purchase_timestamp']>data_split_date]"
   ]
  },
  {
   "cell_type": "code",
   "execution_count": 30,
   "id": "09d0cef8",
   "metadata": {},
   "outputs": [],
   "source": [
    "df_last_180=pd.DataFrame({'customer_unique_id':df3['customer_unique_id'].values.tolist()})\n",
    "df_last_180=df_last_180.merge(df_last.groupby(['customer_unique_id'])['payment_value'].sum().reset_index(),how='outer',on='customer_unique_id')\n",
    "df_last_180.fillna(0,inplace=True)"
   ]
  },
  {
   "cell_type": "code",
   "execution_count": 31,
   "id": "d61bd416",
   "metadata": {},
   "outputs": [
    {
     "data": {
      "text/html": [
       "<div>\n",
       "<style scoped>\n",
       "    .dataframe tbody tr th:only-of-type {\n",
       "        vertical-align: middle;\n",
       "    }\n",
       "\n",
       "    .dataframe tbody tr th {\n",
       "        vertical-align: top;\n",
       "    }\n",
       "\n",
       "    .dataframe thead th {\n",
       "        text-align: right;\n",
       "    }\n",
       "</style>\n",
       "<table border=\"1\" class=\"dataframe\">\n",
       "  <thead>\n",
       "    <tr style=\"text-align: right;\">\n",
       "      <th></th>\n",
       "      <th>customer_unique_id</th>\n",
       "      <th>payment_value</th>\n",
       "      <th>purchased</th>\n",
       "    </tr>\n",
       "  </thead>\n",
       "  <tbody>\n",
       "    <tr>\n",
       "      <th>0</th>\n",
       "      <td>861eff4711a542e4b93843c6dd7febb0</td>\n",
       "      <td>0.00</td>\n",
       "      <td>0</td>\n",
       "    </tr>\n",
       "    <tr>\n",
       "      <th>1</th>\n",
       "      <td>290c77bc529b7ac935b93aa66c333dc3</td>\n",
       "      <td>0.00</td>\n",
       "      <td>0</td>\n",
       "    </tr>\n",
       "    <tr>\n",
       "      <th>2</th>\n",
       "      <td>060e732b5b29e8181a18229c7b0b2b5e</td>\n",
       "      <td>157.73</td>\n",
       "      <td>1</td>\n",
       "    </tr>\n",
       "    <tr>\n",
       "      <th>3</th>\n",
       "      <td>259dac757896d24d7702b9acbbff3f3c</td>\n",
       "      <td>0.00</td>\n",
       "      <td>0</td>\n",
       "    </tr>\n",
       "    <tr>\n",
       "      <th>4</th>\n",
       "      <td>345ecd01c38d18a9036ed96c73b8d066</td>\n",
       "      <td>252.25</td>\n",
       "      <td>1</td>\n",
       "    </tr>\n",
       "  </tbody>\n",
       "</table>\n",
       "</div>"
      ],
      "text/plain": [
       "                 customer_unique_id  payment_value  purchased\n",
       "0  861eff4711a542e4b93843c6dd7febb0           0.00          0\n",
       "1  290c77bc529b7ac935b93aa66c333dc3           0.00          0\n",
       "2  060e732b5b29e8181a18229c7b0b2b5e         157.73          1\n",
       "3  259dac757896d24d7702b9acbbff3f3c           0.00          0\n",
       "4  345ecd01c38d18a9036ed96c73b8d066         252.25          1"
      ]
     },
     "execution_count": 31,
     "metadata": {},
     "output_type": "execute_result"
    }
   ],
   "source": [
    "df_last_180['purchased']=np.where(df_last_180['payment_value']>0, 1,0)\n",
    "df_last_180.head()"
   ]
  },
  {
   "cell_type": "markdown",
   "id": "6d3ce8b8",
   "metadata": {},
   "source": [
    "## Feature Engineering"
   ]
  },
  {
   "cell_type": "code",
   "execution_count": 32,
   "id": "f51a612d",
   "metadata": {},
   "outputs": [],
   "source": [
    "# total number of customers\n",
    "tot_Amount=df_full.groupby('customer_unique_id')['payment_value'].sum().reset_index().rename(columns={'payment_value':'total_amount'})\n",
    "# average of reviews given\n",
    "avg_review=df_full.groupby('customer_unique_id')['review_score'].mean().reset_index().rename(columns={'review_score':'avg_review'})\n",
    "# first purchase with today's purchase\n",
    "min_max_date=df_full.groupby('customer_unique_id')['order_purchase_timestamp'].agg([min,max])\n",
    "min_max_date['diff_first_today']=(dt.datetime.today().date()-min_max_date['min']).dt.days\n",
    "# first to last month purchases\n",
    "min_max_date['max']=pd.to_datetime(min_max_date['max'])\n",
    "min_max_date['min']=pd.to_datetime(min_max_date['min'])\n",
    "min_max_date['diff_first_last']=(min_max_date['max']-min_max_date['min']).dt.days\n",
    "# latest sales\n",
    "max_date=df_full['order_purchase_timestamp'].max()\n",
    "\n",
    "min_max_date['recency']=(np.datetime64(max_date)-min_max_date['max'])/np.timedelta64(1, 'M')\n",
    "# number of sales\n",
    "frequency=df_full.groupby('customer_unique_id')['order_id'].count().reset_index().rename(columns={'order_id':'frequency'})"
   ]
  },
  {
   "cell_type": "code",
   "execution_count": 33,
   "id": "2fb80a85",
   "metadata": {},
   "outputs": [],
   "source": [
    "# engineered features merging\n",
    "dataset=pd.merge(tot_Amount,avg_review,on='customer_unique_id')\n",
    "dataset=pd.merge(dataset,min_max_date,on='customer_unique_id')\n",
    "dataset=pd.merge(dataset,frequency,on='customer_unique_id')\n",
    "dataset=pd.merge(dataset,df_full[['customer_unique_id','customer_city','customer_state']],on='customer_unique_id')\n",
    "dataset.drop(['min','max'],axis=1,inplace=True)"
   ]
  },
  {
   "cell_type": "markdown",
   "id": "cd017fea",
   "metadata": {},
   "source": [
    "## Encoding"
   ]
  },
  {
   "cell_type": "code",
   "execution_count": 34,
   "id": "d9e907c8",
   "metadata": {},
   "outputs": [],
   "source": [
    "from sklearn.preprocessing import LabelEncoder\n",
    "encoder=LabelEncoder()\n",
    "dataset['customer_city']=encoder.fit_transform(dataset['customer_city'])\n",
    "dataset['customer_state']=encoder.fit_transform(dataset['customer_state'])"
   ]
  },
  {
   "cell_type": "code",
   "execution_count": 35,
   "id": "59509daf",
   "metadata": {},
   "outputs": [],
   "source": [
    "dataset_full=dataset.merge(df_last_180[['customer_unique_id','purchased']],on='customer_unique_id')\n",
    "dataset_full.drop(columns='customer_unique_id',inplace=True)"
   ]
  },
  {
   "cell_type": "markdown",
   "id": "5f002b74",
   "metadata": {},
   "source": [
    "## Machine Learning models\n",
    "\n",
    "In this Machine Learning modeling will perform binary classification to predict whether customers will buy in the next 6 months or not. Because this is a classification problem to compare models, I used metrics such as r2 score and accuracy score. \n",
    "\n",
    "As for the model used:\n",
    "- Linear Regression\n",
    "- Random Forest Classifier\n",
    "- Extra Trees Classifier\n",
    "- Gradient Boost Classifier\n",
    "- K nearest neighbor Classifier"
   ]
  },
  {
   "cell_type": "markdown",
   "id": "2f47211f",
   "metadata": {},
   "source": [
    "### Devide data into data train and data test from dataset"
   ]
  },
  {
   "cell_type": "code",
   "execution_count": 36,
   "id": "3131df69",
   "metadata": {},
   "outputs": [],
   "source": [
    "X_train,X_test,y_train,y_test=train_test_split(dataset_full.iloc[:,:-1],dataset_full.iloc[:,-1], test_size=0.2, random_state=31)"
   ]
  },
  {
   "cell_type": "code",
   "execution_count": 37,
   "id": "18f02ebf",
   "metadata": {},
   "outputs": [],
   "source": [
    "# calculate models gini's score \n",
    "def Gini(y_true, y_pred):\n",
    "    # check and get the amount of sample \n",
    "    assert y_true.shape == y_pred.shape\n",
    "    n_samples = y_true.shape[0]\n",
    "    \n",
    "    # sorting the rows of prediction columns from highest to lowest score \n",
    "    arr = np.array([y_true, y_pred]).transpose()\n",
    "    true_order = arr[arr[:,0].argsort()][::-1,0]\n",
    "    pred_order = arr[arr[:,1].argsort()][::-1,0]\n",
    "    \n",
    "    # looking for Lorenz curves\n",
    "    L_true = np.cumsum(true_order) / np.sum(true_order)\n",
    "    L_pred = np.cumsum(pred_order) / np.sum(pred_order)\n",
    "    L_ones = np.linspace(1/n_samples, 1, n_samples)\n",
    "    \n",
    "    # looking fot Gini's coefficient (area between the curve)\n",
    "    G_true = np.sum(L_ones - L_true)\n",
    "    G_pred = np.sum(L_ones - L_pred)\n",
    "    \n",
    "    # normalize Gini's true coefficient \n",
    "    return G_pred/G_true"
   ]
  },
  {
   "cell_type": "code",
   "execution_count": 38,
   "id": "0308952e",
   "metadata": {},
   "outputs": [],
   "source": [
    "# Evaluate any Machine Learning's model by practice the data train and data test \n",
    "def evaluate(X_train, X_test, y_train, y_test):\n",
    "    # Model yang digunakkan\n",
    "    model_name_list = ['Linear Regression',\n",
    "                      'Random Forest', 'Extra Trees',\n",
    "                       'Gradient Boosted','KNeighbors']\n",
    "\n",
    "    \n",
    "    # comparison model\n",
    "    model1 = LinearRegression()\n",
    "    model3 = RandomForestClassifier(n_estimators=50)\n",
    "    model4 = ExtraTreesClassifier(n_estimators=50)\n",
    "    model6 = GradientBoostingClassifier(n_estimators=20)\n",
    "    model7= KNeighborsClassifier(n_neighbors = 5)\n",
    "    \n",
    "    # result from dataframe\n",
    "    results = pd.DataFrame(columns=['r2', 'accuracy','gini'], index = model_name_list)\n",
    "    \n",
    "    # Train and predict from every model\n",
    "    for i, model in enumerate([model1, model3, model4, model6,model7]):\n",
    "   \n",
    "        model.fit(X_train, y_train)\n",
    "        predictions = model.predict(X_test)\n",
    "        \n",
    "        # Matrix\n",
    "        r2 = r2_score(y_test,predictions)\n",
    "        preds=np.where(predictions>0.5,1,0)\n",
    "        accuracy = accuracy_score(y_test,preds)\n",
    "        gini=Gini(y_test,preds)\n",
    "        \n",
    "        # Input result into dataframe\n",
    "        model_name = model_name_list[i]\n",
    "        results.loc[model_name, :] = [r2, accuracy,gini]\n",
    "    \n",
    "    return results"
   ]
  },
  {
   "cell_type": "markdown",
   "id": "eaabb4fb",
   "metadata": {},
   "source": [
    "## Evaluate the Machine Learning"
   ]
  },
  {
   "cell_type": "code",
   "execution_count": 39,
   "id": "6c19009a",
   "metadata": {},
   "outputs": [
    {
     "data": {
      "text/html": [
       "<div>\n",
       "<style scoped>\n",
       "    .dataframe tbody tr th:only-of-type {\n",
       "        vertical-align: middle;\n",
       "    }\n",
       "\n",
       "    .dataframe tbody tr th {\n",
       "        vertical-align: top;\n",
       "    }\n",
       "\n",
       "    .dataframe thead th {\n",
       "        text-align: right;\n",
       "    }\n",
       "</style>\n",
       "<table border=\"1\" class=\"dataframe\">\n",
       "  <thead>\n",
       "    <tr style=\"text-align: right;\">\n",
       "      <th></th>\n",
       "      <th>r2</th>\n",
       "      <th>accuracy</th>\n",
       "      <th>gini</th>\n",
       "    </tr>\n",
       "  </thead>\n",
       "  <tbody>\n",
       "    <tr>\n",
       "      <th>Linear Regression</th>\n",
       "      <td>0.047211</td>\n",
       "      <td>0.97692</td>\n",
       "      <td>0.00262</td>\n",
       "    </tr>\n",
       "    <tr>\n",
       "      <th>Random Forest</th>\n",
       "      <td>0.829861</td>\n",
       "      <td>0.996164</td>\n",
       "      <td>0.883196</td>\n",
       "    </tr>\n",
       "    <tr>\n",
       "      <th>Extra Trees</th>\n",
       "      <td>0.79918</td>\n",
       "      <td>0.995472</td>\n",
       "      <td>0.888083</td>\n",
       "    </tr>\n",
       "    <tr>\n",
       "      <th>Gradient Boosted</th>\n",
       "      <td>0.104676</td>\n",
       "      <td>0.979813</td>\n",
       "      <td>0.128741</td>\n",
       "    </tr>\n",
       "    <tr>\n",
       "      <th>KNeighbors</th>\n",
       "      <td>0.283183</td>\n",
       "      <td>0.983837</td>\n",
       "      <td>0.406596</td>\n",
       "    </tr>\n",
       "  </tbody>\n",
       "</table>\n",
       "</div>"
      ],
      "text/plain": [
       "                         r2  accuracy      gini\n",
       "Linear Regression  0.047211   0.97692   0.00262\n",
       "Random Forest      0.829861  0.996164  0.883196\n",
       "Extra Trees         0.79918  0.995472  0.888083\n",
       "Gradient Boosted   0.104676  0.979813  0.128741\n",
       "KNeighbors         0.283183  0.983837  0.406596"
      ]
     },
     "execution_count": 39,
     "metadata": {},
     "output_type": "execute_result"
    }
   ],
   "source": [
    "end_result=evaluate(X_train, X_test, y_train, y_test)\n",
    "end_result"
   ]
  },
  {
   "cell_type": "markdown",
   "id": "2455cb85",
   "metadata": {},
   "source": [
    "# Conclusion\n",
    "\n",
    "Based on the r2 value of 5 Machine Learning models, namely Linear Regression, Random Forest, Extra Trees, Gradient Boosted, and KNeighbors. It explains that the closest to a value of 1 based on the analysis of customer purchase probability predictions from Brazilian E-Commerce data is the *'Random Forest Classifier'* model that the best classifier based on the 5 models in this test."
   ]
  }
 ],
 "metadata": {
  "kernelspec": {
   "display_name": "Python 3 (ipykernel)",
   "language": "python",
   "name": "python3"
  },
  "language_info": {
   "codemirror_mode": {
    "name": "ipython",
    "version": 3
   },
   "file_extension": ".py",
   "mimetype": "text/x-python",
   "name": "python",
   "nbconvert_exporter": "python",
   "pygments_lexer": "ipython3",
   "version": "3.10.7"
  },
  "latex_envs": {
   "LaTeX_envs_menu_present": true,
   "autoclose": false,
   "autocomplete": true,
   "bibliofile": "biblio.bib",
   "cite_by": "apalike",
   "current_citInitial": 1,
   "eqLabelWithNumbers": true,
   "eqNumInitial": 1,
   "hotkeys": {
    "equation": "Ctrl-E",
    "itemize": "Ctrl-I"
   },
   "labels_anchors": false,
   "latex_user_defs": false,
   "report_style_numbering": false,
   "user_envs_cfg": false
  },
  "toc": {
   "base_numbering": 1,
   "nav_menu": {},
   "number_sections": false,
   "sideBar": true,
   "skip_h1_title": false,
   "title_cell": "Table of Contents",
   "title_sidebar": "Contents",
   "toc_cell": false,
   "toc_position": {
    "height": "calc(100% - 180px)",
    "left": "10px",
    "top": "150px",
    "width": "273.1875px"
   },
   "toc_section_display": true,
   "toc_window_display": true
  }
 },
 "nbformat": 4,
 "nbformat_minor": 5
}
